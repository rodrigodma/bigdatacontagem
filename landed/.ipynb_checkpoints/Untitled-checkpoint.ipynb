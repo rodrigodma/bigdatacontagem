{
 "cells": [
  {
   "cell_type": "code",
   "execution_count": 1,
   "metadata": {},
   "outputs": [],
   "source": [
    "import os\n",
    "import numpy as np\n",
    "import sagemaker_pyspark\n",
    "from pyspark.sql import SparkSession\n",
    "from pyspark.sql.types import StructType, StructField,StringType, FloatType"
   ]
  },
  {
   "cell_type": "code",
   "execution_count": 2,
   "metadata": {},
   "outputs": [],
   "source": [
    "from pyspark import SparkContext, SparkConf\n",
    "from sagemaker_pyspark import classpath_jars\n",
    "from pyspark.sql.functions import create_map, struct"
   ]
  },
  {
   "cell_type": "code",
   "execution_count": 3,
   "metadata": {},
   "outputs": [],
   "source": [
    "LANDED = '/home/qualiti/workspace/bigdatacontagem/landed'\n",
    "RAW = '/home/qualiti/workspace/bigdatacontagem/raw'"
   ]
  },
  {
   "cell_type": "code",
   "execution_count": 4,
   "metadata": {},
   "outputs": [
    {
     "data": {
      "text/html": [
       "\n",
       "            <div>\n",
       "                <p><b>SparkSession - in-memory</b></p>\n",
       "                \n",
       "        <div>\n",
       "            <p><b>SparkContext</b></p>\n",
       "\n",
       "            <p><a href=\"http://192.168.95.113:4040\">Spark UI</a></p>\n",
       "\n",
       "            <dl>\n",
       "              <dt>Version</dt>\n",
       "                <dd><code>v2.4.3</code></dd>\n",
       "              <dt>Master</dt>\n",
       "                <dd><code>local[*]</code></dd>\n",
       "              <dt>AppName</dt>\n",
       "                <dd><code>Cyclistic SPARK</code></dd>\n",
       "            </dl>\n",
       "        </div>\n",
       "        \n",
       "            </div>\n",
       "        "
      ],
      "text/plain": [
       "<pyspark.sql.session.SparkSession at 0x7effd9483710>"
      ]
     },
     "execution_count": 4,
     "metadata": {},
     "output_type": "execute_result"
    }
   ],
   "source": [
    "classpath = \":\".join(sagemaker_pyspark.classpath_jars())\n",
    "\n",
    "builder = SparkSession.builder.appName(\"Cyclistic SPARK\")\n",
    "builder.config(\n",
    "    \"spark.hadoop.mapreduce.fileoutputcommitter.algorithm.version\", \"2\")\n",
    "builder.config(\"spark.speculation\", \"false\")\n",
    "builder.config(\"spark.sql.parquet.compression.codec\", \"gzip\")\n",
    "builder.config(\"spark.debug.maxToStringFields\", \"100\")\n",
    "builder.config(\"spark.driver.extraClassPath\", classpath)\n",
    "builder.config(\"spark.driver.memory\", \"1g\")\n",
    "builder.config(\"spark.driver.cores\", \"1\")\n",
    "builder.config(\"spark.executor-memory\", \"20g\")\n",
    "builder.config(\"spark.executor.cores\", \"4\")\n",
    "\n",
    "\n",
    "builder.master(\"local[*]\")\n",
    "\n",
    "spark = builder.getOrCreate()\n",
    "spark"
   ]
  },
  {
   "cell_type": "code",
   "execution_count": 6,
   "metadata": {},
   "outputs": [],
   "source": [
    "contagem_csv = spark.read.format(\"csv\").option(\"header\", \"true\").option(\"delimiter\", \";\").load(\"Planilha - 2013.04.25 - Contagem - Av. Rui Barbosa x R. Amélia - Dados.csv\")"
   ]
  },
  {
   "cell_type": "code",
   "execution_count": 7,
   "metadata": {},
   "outputs": [
    {
     "name": "stdout",
     "output_type": "stream",
     "text": [
      "+--------------------------------------------------------------+\n",
      "|Dados quantitativos e sentido de deslocamento,,,,,,,,,,,,,,,,,|\n",
      "+--------------------------------------------------------------+\n",
      "|                                          ORIGEM,DESTINO,6,...|\n",
      "|                                          Parnamirim,Torre,...|\n",
      "|                                          Parnamirim,Centro...|\n",
      "|                                          Parnamirim,Espinh...|\n",
      "|                                          Espinheiro,Parnam...|\n",
      "|                                          Espinheiro,Torre,...|\n",
      "|                                          Espinheiro,Centro...|\n",
      "|                                          Centro,Espinheiro...|\n",
      "|                                          Centro,Parnamirim...|\n",
      "|                                          Centro,Torre,1,0,...|\n",
      "|                                          Torre,Centro,32,2...|\n",
      "|                                          Torre,Espinheiro,...|\n",
      "|                                          Torre,Parnamirim,...|\n",
      "|                                          ,TOTAL,143,222,12...|\n",
      "|                                          ,Percentual,\"9,99...|\n",
      "|                                             ,,,,,,,,,,,,,,,,,|\n",
      "|                                          Dados qualitativo...|\n",
      "|                                          ,Característica,6...|\n",
      "|                                          ,Mulher,16,7,7,9,...|\n",
      "|                                          ,Crianças e adole...|\n",
      "+--------------------------------------------------------------+\n",
      "only showing top 20 rows\n",
      "\n"
     ]
    }
   ],
   "source": [
    "contagem_csv.show()"
   ]
  },
  {
   "cell_type": "code",
   "execution_count": null,
   "metadata": {},
   "outputs": [],
   "source": []
  }
 ],
 "metadata": {
  "kernelspec": {
   "display_name": "Python 3",
   "language": "python",
   "name": "python3"
  },
  "language_info": {
   "codemirror_mode": {
    "name": "ipython",
    "version": 3
   },
   "file_extension": ".py",
   "mimetype": "text/x-python",
   "name": "python",
   "nbconvert_exporter": "python",
   "pygments_lexer": "ipython3",
   "version": "3.6.8"
  }
 },
 "nbformat": 4,
 "nbformat_minor": 2
}
